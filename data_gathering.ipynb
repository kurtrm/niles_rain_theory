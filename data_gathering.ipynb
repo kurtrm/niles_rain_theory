{
 "cells": [
  {
   "cell_type": "code",
   "execution_count": 6,
   "metadata": {
    "collapsed": true
   },
   "outputs": [],
   "source": [
    "import numpy as np\n",
    "import scipy.stats as scs\n",
    "import matplotlib.pyplot as plt\n",
    "import pandas as pd\n",
    "%matplotlib inline\n",
    "from IPython.core.interactiveshell import InteractiveShell\n",
    "InteractiveShell.ast_node_interactivity = 'all'"
   ]
  },
  {
   "cell_type": "code",
   "execution_count": 7,
   "metadata": {},
   "outputs": [],
   "source": [
    "csv_1 = '1306251.csv'\n",
    "csv_2 = '1304262.csv'\n",
    "csv_3 = '1304260.csv'\n",
    "csv_4 = '1304258.csv'"
   ]
  },
  {
   "cell_type": "code",
   "execution_count": 8,
   "metadata": {},
   "outputs": [],
   "source": [
    "csvs = [csv_1, csv_2, csv_3, csv_4]"
   ]
  },
  {
   "cell_type": "code",
   "execution_count": 9,
   "metadata": {
    "collapsed": true
   },
   "outputs": [],
   "source": [
    "dfs = [pd.read_csv('/mnt/c/Users/kurtrm/Downloads/{}'.format(csv))\n",
    "       for csv in csvs]"
   ]
  },
  {
   "cell_type": "code",
   "execution_count": 35,
   "metadata": {},
   "outputs": [
    {
     "data": {
      "text/plain": [
       "SEATTLE SAND POINT WEATHER FORECAST OFFICE, WA US    367\n",
       "BREMERTON, WA US                                     367\n",
       "TACOMA NARROWS AIRPORT, WA US                        367\n",
       "CEDAR LAKE, WA US                                    367\n",
       "EVERETT SNOHOMISH CO AIRPORT, WA US                  367\n",
       "WAUNA 3 W, WA US                                     367\n",
       "RENTON MUNICIPAL AIRPORT, WA US                      367\n",
       "TACOMA NUMBER 1, WA US                               367\n",
       "LANDSBURG, WA US                                     367\n",
       "KENT, WA US                                          367\n",
       "SEATTLE TACOMA INTERNATIONAL AIRPORT, WA US          367\n",
       "TOLT SOUTH FORK RESERVOIR, WA US                     367\n",
       "MONROE, WA US                                        366\n",
       "SEATTLE BOEING FIELD, WA US                          365\n",
       "SNOQUALMIE FALLS, WA US                              364\n",
       "EVERETT, WA US                                       357\n",
       "PALMER 3 ESE, WA US                                  337\n",
       "RENTON 3.2 E, WA US                                  214\n",
       "OLALLA 1.4 WNW, WA US                                213\n",
       "KENT 2.9 ENE, WA US                                  206\n",
       "CLEARVIEW 0.8 SW, WA US                              205\n",
       "SEATTLE 4.9 NNW, WA US                               204\n",
       "BREMERTON 1.8 NE, WA US                              203\n",
       "SILVERDALE 2.7 WSW, WA US                            201\n",
       "RAVENSDALE 4.0 SE, WA US                             201\n",
       "NORTH BEND 2.8 SE, WA US                             197\n",
       "SEATTLE 3.5 NW, WA US                                196\n",
       "BOTHELL 4.1 NNE, WA US                               194\n",
       "SEATTLE 5.6 SSW, WA US                               194\n",
       "TACOMA 3.1 NW, WA US                                 191\n",
       "                                                    ... \n",
       "BRIER 0.3 W, WA US                                   106\n",
       "SEATTLE 3.0 WNW, WA US                                99\n",
       "FALL CITY 0.4 SW, WA US                               98\n",
       "RENTON 0.5 SSW, WA US                                 95\n",
       "BRIER 0.8 NE, WA US                                   89\n",
       "EDGEWOOD 2.5 SE, WA US                                85\n",
       "SEATTLE 3.2 N, WA US                                  83\n",
       "NEWPORT HILLS 1.4 E, WA US                            81\n",
       "PORT ORCHARD 6.7 SSW, WA US                           77\n",
       "EVERETT 2.4 WSW, WA US                                71\n",
       "EDMONDS 1.5 SE, WA US                                 70\n",
       "SNOHOMISH 3.5 NNE, WA US                              63\n",
       "SUMMIT 1.1 WSW, WA US                                 59\n",
       "SEATTLE 4.5 SE, WA US                                 50\n",
       "TRACYTON 2.2 NE, WA US                                49\n",
       "SEATTLE 2.3 NW, WA US                                 48\n",
       "ISSAQUAH 5.2 ESE, WA US                               47\n",
       "FEDERAL WAY 2.5 NNE, WA US                            41\n",
       "INDIANOLA 0.9 NNW, WA US                              41\n",
       "BELLEVUE 2.3 SSE, WA US                               37\n",
       "SEATTLE 6.1 NNE, WA US                                36\n",
       "KENT 1.7 SSE, WA US                                   35\n",
       "GIG HARBOR 4.3 N, WA US                               30\n",
       "SILVERDALE 3.0 W, WA US                               30\n",
       "BELLEVUE 0.6 NE, WA US                                30\n",
       "SEATTLE 4.3 N, WA US                                  21\n",
       "SEATTLE 5.0 NNW, WA US                                19\n",
       "KINGSTON 1.7 WNW, WA US                               14\n",
       "TACOMA 0.9 NW, WA US                                  11\n",
       "SNOQUALMIE 2.9 WNW, WA US                              1\n",
       "Name: NAME, Length: 112, dtype: int64"
      ]
     },
     "execution_count": 35,
     "metadata": {},
     "output_type": "execute_result"
    }
   ],
   "source": [
    "dfs[0]['NAME'].value_counts()"
   ]
  },
  {
   "cell_type": "code",
   "execution_count": null,
   "metadata": {
    "collapsed": true
   },
   "outputs": [],
   "source": []
  }
 ],
 "metadata": {
  "kernelspec": {
   "display_name": "Python 3",
   "language": "python",
   "name": "python3"
  },
  "language_info": {
   "codemirror_mode": {
    "name": "ipython",
    "version": 3
   },
   "file_extension": ".py",
   "mimetype": "text/x-python",
   "name": "python",
   "nbconvert_exporter": "python",
   "pygments_lexer": "ipython3",
   "version": "3.6.4"
  }
 },
 "nbformat": 4,
 "nbformat_minor": 2
}
